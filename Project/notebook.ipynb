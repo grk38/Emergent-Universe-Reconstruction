{
 "cells": [
  {
   "cell_type": "code",
   "execution_count": null,
   "metadata": {},
   "outputs": [],
   "source": [
    "import reformedga as ga\n",
    "\n",
    "import numpy as np\n",
    "from sympy.parsing.mathematica import parse_mathematica\n",
    "from sympy import I, N\n",
    "from sympy import Function\n",
    "from sympy import symbols\n",
    "from scipy.optimize import show_options, curve_fit\n",
    "import sympy as sym\n",
    "import math\n",
    "import random\n",
    "import time\n",
    "import matplotlib.pyplot as plt\n",
    "import multiprocessing\n",
    "from multiprocessing import Pool\n",
    "from sympy import sympify"
   ]
  },
  {
   "cell_type": "code",
   "execution_count": null,
   "metadata": {},
   "outputs": [],
   "source": [
    "str_nS = \"1-(-((2 b^2 E^(-((2 Ne1)/n)) (-1+n)^2 ((2 E^(Ne1/n) (-1+(E^(-(Ne1/n)) (-1+n))/n) n^2)/(b^2 (-1+n))-(2 E^((2 Ne1)/n) (-1+(E^(-(Ne1/n)) (-1+n))/n)^2 n^3)/(b^2 (-1+n)^2)))/((-1+(E^(-(Ne1/n)) (-1+n))/n)^2 n^4))-(1/((-1+(E^(-(Ne1/n)) (-1+n))/n)^2 n^4))b^2 E^(-((2 Ne1)/n)) (-1+n)^2 ((2 E^(Ne1/n) (-1+(E^(-(Ne1/n)) (-1+n))/n) n^2)/(b^2 (-1+n))-(2 E^((2 Ne1)/n) (-1+(E^(-(Ne1/n)) (-1+n))/n)^2 n^3)/(b^2 (-1+n)^2)) (-1-(24 E^((2 Ne1)/n) (-1+(E^(-(Ne1/n)) (-1+n))/n)^2 n^4 (1/4 c1 (3-n-Sqrt[1-2 n] Sqrt[(1+10 n+n^2)/(1-2 n)]) ((24 E^((2 Ne1)/n) (-1+(E^(-(Ne1/n)) (-1+n))/n)^2 n^4)/(b^2 (-1+n)^2)+6 ((2 E^(Ne1/n) (-1+(E^(-(Ne1/n)) (-1+n))/n) n^2)/(b^2 (-1+n))-(2 E^((2 Ne1)/n) (-1+(E^(-(Ne1/n)) (-1+n))/n)^2 n^3)/(b^2 (-1+n)^2)))^(-3+1/4 (3-n-Sqrt[1-2 n] Sqrt[(1+10 n+n^2)/(1-2 n)])) (-2+1/4 (3-n-Sqrt[1-2 n] Sqrt[(1+10 n+n^2)/(1-2 n)])) (-1+1/4 (3-n-Sqrt[1-2 n] Sqrt[(1+10 n+n^2)/(1-2 n)]))+1/4 c2 (3-n+Sqrt[1-2 n] Sqrt[(1+10 n+n^2)/(1-2 n)]) ((24 E^((2 Ne1)/n) (-1+(E^(-(Ne1/n)) (-1+n))/n)^2 n^4)/(b^2 (-1+n)^2)+6 ((2 E^(Ne1/n) (-1+(E^(-(Ne1/n)) (-1+n))/n) n^2)/(b^2 (-1+n))-(2 E^((2 Ne1)/n) (-1+(E^(-(Ne1/n)) (-1+n))/n)^2 n^3)/(b^2 (-1+n)^2)))^(-3+1/4 (3-n+Sqrt[1-2 n] Sqrt[(1+10 n+n^2)/(1-2 n)])) (-2+1/4 (3-n+Sqrt[1-2 n] Sqrt[(1+10 n+n^2)/(1-2 n)])) (-1+1/4 (3-n+Sqrt[1-2 n] Sqrt[(1+10 n+n^2)/(1-2 n)]))))/(b^2 (-1+n)^2 (1/4 c1 (3-n-Sqrt[1-2 n] Sqrt[(1+10 n+n^2)/(1-2 n)]) ((24 E^((2 Ne1)/n) (-1+(E^(-(Ne1/n)) (-1+n))/n)^2 n^4)/(b^2 (-1+n)^2)+6 ((2 E^(Ne1/n) (-1+(E^(-(Ne1/n)) (-1+n))/n) n^2)/(b^2 (-1+n))-(2 E^((2 Ne1)/n) (-1+(E^(-(Ne1/n)) (-1+n))/n)^2 n^3)/(b^2 (-1+n)^2)))^(-2+1/4 (3-n-Sqrt[1-2 n] Sqrt[(1+10 n+n^2)/(1-2 n)])) (-1+1/4 (3-n-Sqrt[1-2 n] Sqrt[(1+10 n+n^2)/(1-2 n)]))+1/4 c2 (3-n+Sqrt[1-2 n] Sqrt[(1+10 n+n^2)/(1-2 n)]) ((24 E^((2 Ne1)/n) (-1+(E^(-(Ne1/n)) (-1+n))/n)^2 n^4)/(b^2 (-1+n)^2)+6 ((2 E^(Ne1/n) (-1+(E^(-(Ne1/n)) (-1+n))/n) n^2)/(b^2 (-1+n))-(2 E^((2 Ne1)/n) (-1+(E^(-(Ne1/n)) (-1+n))/n)^2 n^3)/(b^2 (-1+n)^2)))^(-2+1/4 (3-n+Sqrt[1-2 n] Sqrt[(1+10 n+n^2)/(1-2 n)])) (-1+1/4 (3-n+Sqrt[1-2 n] Sqrt[(1+10 n+n^2)/(1-2 n)])))))+(b^2 E^(-((2 Ne1)/n)) (-1+n)^2 ((2 E^(Ne1/n) (-1+(E^(-(Ne1/n)) (-1+n))/n) n^2)/(b^2 (-1+n))-(2 E^((2 Ne1)/n) (-1+(E^(-(Ne1/n)) (-1+n))/n)^2 n^3)/(b^2 (-1+n)^2)))/((-1+(E^(-(Ne1/n)) (-1+n))/n)^2 n^4 (-1-(1/(2 (-1+(E^(-(Ne1/n)) (-1+n))/n)^2 n^4))b^2 E^(-((2 Ne1)/n)) (-1+n)^2 ((2 E^(Ne1/n) (-1+(E^(-(Ne1/n)) (-1+n))/n) n^2)/(b^2 (-1+n))-(2 E^((2 Ne1)/n) (-1+(E^(-(Ne1/n)) (-1+n))/n)^2 n^3)/(b^2 (-1+n)^2)) (-1-(24 E^((2 Ne1)/n) (-1+(E^(-(Ne1/n)) (-1+n))/n)^2 n^4 (1/4 c1 (3-n-Sqrt[1-2 n] Sqrt[(1+10 n+n^2)/(1-2 n)]) ((24 E^((2 Ne1)/n) (-1+(E^(-(Ne1/n)) (-1+n))/n)^2 n^4)/(b^2 (-1+n)^2)+6 ((2 E^(Ne1/n) (-1+(E^(-(Ne1/n)) (-1+n))/n) n^2)/(b^2 (-1+n))-(2 E^((2 Ne1)/n) (-1+(E^(-(Ne1/n)) (-1+n))/n)^2 n^3)/(b^2 (-1+n)^2)))^(-3+1/4 (3-n-Sqrt[1-2 n] Sqrt[(1+10 n+n^2)/(1-2 n)])) (-2+1/4 (3-n-Sqrt[1-2 n] Sqrt[(1+10 n+n^2)/(1-2 n)])) (-1+1/4 (3-n-Sqrt[1-2 n] Sqrt[(1+10 n+n^2)/(1-2 n)]))+1/4 c2 (3-n+Sqrt[1-2 n] Sqrt[(1+10 n+n^2)/(1-2 n)]) ((24 E^((2 Ne1)/n) (-1+(E^(-(Ne1/n)) (-1+n))/n)^2 n^4)/(b^2 (-1+n)^2)+6 ((2 E^(Ne1/n) (-1+(E^(-(Ne1/n)) (-1+n))/n) n^2)/(b^2 (-1+n))-(2 E^((2 Ne1)/n) (-1+(E^(-(Ne1/n)) (-1+n))/n)^2 n^3)/(b^2 (-1+n)^2)))^(-3+1/4 (3-n+Sqrt[1-2 n] Sqrt[(1+10 n+n^2)/(1-2 n)])) (-2+1/4 (3-n+Sqrt[1-2 n] Sqrt[(1+10 n+n^2)/(1-2 n)])) (-1+1/4 (3-n+Sqrt[1-2 n] Sqrt[(1+10 n+n^2)/(1-2 n)]))))/(b^2 (-1+n)^2 (1/4 c1 (3-n-Sqrt[1-2 n] Sqrt[(1+10 n+n^2)/(1-2 n)]) ((24 E^((2 Ne1)/n) (-1+(E^(-(Ne1/n)) (-1+n))/n)^2 n^4)/(b^2 (-1+n)^2)+6 ((2 E^(Ne1/n) (-1+(E^(-(Ne1/n)) (-1+n))/n) n^2)/(b^2 (-1+n))-(2 E^((2 Ne1)/n) (-1+(E^(-(Ne1/n)) (-1+n))/n)^2 n^3)/(b^2 (-1+n)^2)))^(-2+1/4 (3-n-Sqrt[1-2 n] Sqrt[(1+10 n+n^2)/(1-2 n)])) (-1+1/4 (3-n-Sqrt[1-2 n] Sqrt[(1+10 n+n^2)/(1-2 n)]))+1/4 c2 (3-n+Sqrt[1-2 n] Sqrt[(1+10 n+n^2)/(1-2 n)]) ((24 E^((2 Ne1)/n) (-1+(E^(-(Ne1/n)) (-1+n))/n)^2 n^4)/(b^2 (-1+n)^2)+6 ((2 E^(Ne1/n) (-1+(E^(-(Ne1/n)) (-1+n))/n) n^2)/(b^2 (-1+n))-(2 E^((2 Ne1)/n) (-1+(E^(-(Ne1/n)) (-1+n))/n)^2 n^3)/(b^2 (-1+n)^2)))^(-2+1/4 (3-n+Sqrt[1-2 n] Sqrt[(1+10 n+n^2)/(1-2 n)])) (-1+1/4 (3-n+Sqrt[1-2 n] Sqrt[(1+10 n+n^2)/(1-2 n)]))))))))/(1+(b^2 E^(-((2 Ne1)/n)) (-1+n)^2 ((2 E^(Ne1/n) (-1+(E^(-(Ne1/n)) (-1+n))/n) n^2)/(b^2 (-1+n))-(2 E^((2 Ne1)/n) (-1+(E^(-(Ne1/n)) (-1+n))/n)^2 n^3)/(b^2 (-1+n)^2)))/(2 (-1+(E^(-(Ne1/n)) (-1+n))/n)^2 n^4))\"\n",
    "\n",
    "str_r = \"(12 b^4 E^(-((4 Ne1)/n)) (-1+n)^4 ((2 E^(Ne1/n) (-1+(E^(-(Ne1/n)) (-1+n))/n) n^2)/(b^2 (-1+n))-(2 E^((2 Ne1)/n) (-1+(E^(-(Ne1/n)) (-1+n))/n)^2 n^3)/(b^2 (-1+n)^2))^2)/((-1+(E^(-(Ne1/n)) (-1+n))/n)^4 n^8 (-1-(1/(2 (-1+(E^(-(Ne1/n)) (-1+n))/n)^2 n^4))b^2 E^(-((2 Ne1)/n)) (-1+n)^2 ((2 E^(Ne1/n) (-1+(E^(-(Ne1/n)) (-1+n))/n) n^2)/(b^2 (-1+n))-(2 E^((2 Ne1)/n) (-1+(E^(-(Ne1/n)) (-1+n))/n)^2 n^3)/(b^2 (-1+n)^2)) (-1-(24 E^((2 Ne1)/n) (-1+(E^(-(Ne1/n)) (-1+n))/n)^2 n^4 (1/4 c1 (3-n-Sqrt[1-2 n] Sqrt[(1+10 n+n^2)/(1-2 n)]) ((24 E^((2 Ne1)/n) (-1+(E^(-(Ne1/n)) (-1+n))/n)^2 n^4)/(b^2 (-1+n)^2)+6 ((2 E^(Ne1/n) (-1+(E^(-(Ne1/n)) (-1+n))/n) n^2)/(b^2 (-1+n))-(2 E^((2 Ne1)/n) (-1+(E^(-(Ne1/n)) (-1+n))/n)^2 n^3)/(b^2 (-1+n)^2)))^(-3+1/4 (3-n-Sqrt[1-2 n] Sqrt[(1+10 n+n^2)/(1-2 n)])) (-2+1/4 (3-n-Sqrt[1-2 n] Sqrt[(1+10 n+n^2)/(1-2 n)])) (-1+1/4 (3-n-Sqrt[1-2 n] Sqrt[(1+10 n+n^2)/(1-2 n)]))+1/4 c2 (3-n+Sqrt[1-2 n] Sqrt[(1+10 n+n^2)/(1-2 n)]) ((24 E^((2 Ne1)/n) (-1+(E^(-(Ne1/n)) (-1+n))/n)^2 n^4)/(b^2 (-1+n)^2)+6 ((2 E^(Ne1/n) (-1+(E^(-(Ne1/n)) (-1+n))/n) n^2)/(b^2 (-1+n))-(2 E^((2 Ne1)/n) (-1+(E^(-(Ne1/n)) (-1+n))/n)^2 n^3)/(b^2 (-1+n)^2)))^(-3+1/4 (3-n+Sqrt[1-2 n] Sqrt[(1+10 n+n^2)/(1-2 n)])) (-2+1/4 (3-n+Sqrt[1-2 n] Sqrt[(1+10 n+n^2)/(1-2 n)])) (-1+1/4 (3-n+Sqrt[1-2 n] Sqrt[(1+10 n+n^2)/(1-2 n)]))))/(b^2 (-1+n)^2 (1/4 c1 (3-n-Sqrt[1-2 n] Sqrt[(1+10 n+n^2)/(1-2 n)]) ((24 E^((2 Ne1)/n) (-1+(E^(-(Ne1/n)) (-1+n))/n)^2 n^4)/(b^2 (-1+n)^2)+6 ((2 E^(Ne1/n) (-1+(E^(-(Ne1/n)) (-1+n))/n) n^2)/(b^2 (-1+n))-(2 E^((2 Ne1)/n) (-1+(E^(-(Ne1/n)) (-1+n))/n)^2 n^3)/(b^2 (-1+n)^2)))^(-2+1/4 (3-n-Sqrt[1-2 n] Sqrt[(1+10 n+n^2)/(1-2 n)])) (-1+1/4 (3-n-Sqrt[1-2 n] Sqrt[(1+10 n+n^2)/(1-2 n)]))+1/4 c2 (3-n+Sqrt[1-2 n] Sqrt[(1+10 n+n^2)/(1-2 n)]) ((24 E^((2 Ne1)/n) (-1+(E^(-(Ne1/n)) (-1+n))/n)^2 n^4)/(b^2 (-1+n)^2)+6 ((2 E^(Ne1/n) (-1+(E^(-(Ne1/n)) (-1+n))/n) n^2)/(b^2 (-1+n))-(2 E^((2 Ne1)/n) (-1+(E^(-(Ne1/n)) (-1+n))/n)^2 n^3)/(b^2 (-1+n)^2)))^(-2+1/4 (3-n+Sqrt[1-2 n] Sqrt[(1+10 n+n^2)/(1-2 n)])) (-1+1/4 (3-n+Sqrt[1-2 n] Sqrt[(1+10 n+n^2)/(1-2 n)]))))))^2 (1-(b^2 E^(-((2 Ne1)/n)) (-1+n)^2 ((2 E^(Ne1/n) (-1+(E^(-(Ne1/n)) (-1+n))/n) n^2)/(b^2 (-1+n))-(2 E^((2 Ne1)/n) (-1+(E^(-(Ne1/n)) (-1+n))/n)^2 n^3)/(b^2 (-1+n)^2)))/(2 (-1+(E^(-(Ne1/n)) (-1+n))/n)^2 n^4 (-1-(1/(2 (-1+(E^(-(Ne1/n)) (-1+n))/n)^2 n^4))b^2 E^(-((2 Ne1)/n)) (-1+n)^2 ((2 E^(Ne1/n) (-1+(E^(-(Ne1/n)) (-1+n))/n) n^2)/(b^2 (-1+n))-(2 E^((2 Ne1)/n) (-1+(E^(-(Ne1/n)) (-1+n))/n)^2 n^3)/(b^2 (-1+n)^2)) (-1-(24 E^((2 Ne1)/n) (-1+(E^(-(Ne1/n)) (-1+n))/n)^2 n^4 (1/4 c1 (3-n-Sqrt[1-2 n] Sqrt[(1+10 n+n^2)/(1-2 n)]) ((24 E^((2 Ne1)/n) (-1+(E^(-(Ne1/n)) (-1+n))/n)^2 n^4)/(b^2 (-1+n)^2)+6 ((2 E^(Ne1/n) (-1+(E^(-(Ne1/n)) (-1+n))/n) n^2)/(b^2 (-1+n))-(2 E^((2 Ne1)/n) (-1+(E^(-(Ne1/n)) (-1+n))/n)^2 n^3)/(b^2 (-1+n)^2)))^(-3+1/4 (3-n-Sqrt[1-2 n] Sqrt[(1+10 n+n^2)/(1-2 n)])) (-2+1/4 (3-n-Sqrt[1-2 n] Sqrt[(1+10 n+n^2)/(1-2 n)])) (-1+1/4 (3-n-Sqrt[1-2 n] Sqrt[(1+10 n+n^2)/(1-2 n)]))+1/4 c2 (3-n+Sqrt[1-2 n] Sqrt[(1+10 n+n^2)/(1-2 n)]) ((24 E^((2 Ne1)/n) (-1+(E^(-(Ne1/n)) (-1+n))/n)^2 n^4)/(b^2 (-1+n)^2)+6 ((2 E^(Ne1/n) (-1+(E^(-(Ne1/n)) (-1+n))/n) n^2)/(b^2 (-1+n))-(2 E^((2 Ne1)/n) (-1+(E^(-(Ne1/n)) (-1+n))/n)^2 n^3)/(b^2 (-1+n)^2)))^(-3+1/4 (3-n+Sqrt[1-2 n] Sqrt[(1+10 n+n^2)/(1-2 n)])) (-2+1/4 (3-n+Sqrt[1-2 n] Sqrt[(1+10 n+n^2)/(1-2 n)])) (-1+1/4 (3-n+Sqrt[1-2 n] Sqrt[(1+10 n+n^2)/(1-2 n)]))))/(b^2 (-1+n)^2 (1/4 c1 (3-n-Sqrt[1-2 n] Sqrt[(1+10 n+n^2)/(1-2 n)]) ((24 E^((2 Ne1)/n) (-1+(E^(-(Ne1/n)) (-1+n))/n)^2 n^4)/(b^2 (-1+n)^2)+6 ((2 E^(Ne1/n) (-1+(E^(-(Ne1/n)) (-1+n))/n) n^2)/(b^2 (-1+n))-(2 E^((2 Ne1)/n) (-1+(E^(-(Ne1/n)) (-1+n))/n)^2 n^3)/(b^2 (-1+n)^2)))^(-2+1/4 (3-n-Sqrt[1-2 n] Sqrt[(1+10 n+n^2)/(1-2 n)])) (-1+1/4 (3-n-Sqrt[1-2 n] Sqrt[(1+10 n+n^2)/(1-2 n)]))+1/4 c2 (3-n+Sqrt[1-2 n] Sqrt[(1+10 n+n^2)/(1-2 n)]) ((24 E^((2 Ne1)/n) (-1+(E^(-(Ne1/n)) (-1+n))/n)^2 n^4)/(b^2 (-1+n)^2)+6 ((2 E^(Ne1/n) (-1+(E^(-(Ne1/n)) (-1+n))/n) n^2)/(b^2 (-1+n))-(2 E^((2 Ne1)/n) (-1+(E^(-(Ne1/n)) (-1+n))/n)^2 n^3)/(b^2 (-1+n)^2)))^(-2+1/4 (3-n+Sqrt[1-2 n] Sqrt[(1+10 n+n^2)/(1-2 n)])) (-1+1/4 (3-n+Sqrt[1-2 n] Sqrt[(1+10 n+n^2)/(1-2 n)]))))))))^2)\"\n",
    "#Keep in mind that parse_mathematica is not able to translate greek letters so before you grab the expressions make the appropriate substitutions\n",
    "#Also refrain from calling the number of efolds N as it gets mistranslated to the Mathematica function N[]. I personally use Ne1\n",
    "#In addition to that, using variables with subscripts is strognly advised against as sympy cant handle them\n",
    "#Life hack : To make the whole process easier copy them from the notebook as plain text\n",
    "input_symbols = sym.symbols('Ne1 b n c1 c2')"
   ]
  },
  {
   "cell_type": "code",
   "execution_count": null,
   "metadata": {},
   "outputs": [],
   "source": [
    "gaobj = ga.GenAlgo(str_nS,str_r,input_symbols)\n",
    "set_bounds = np.array([(40,80),(-10**(15),10**(15)),(-10**(15),+10**(15)),(-10**(5),10**(5)),(-10**(5),10**(5))]) \n",
    "results = gaobj.start(set_bounds,size_population=2000,fit_lim=15,iterations=20,loaded_population=None)"
   ]
  },
  {
   "cell_type": "code",
   "execution_count": null,
   "metadata": {},
   "outputs": [],
   "source": [
    "populations, best, keep_scores = results\n",
    "cleared = gaobj.clear_points(best)\n",
    "viable_points, nS_values, r_values = cleared \n",
    "\n",
    "# We get only the points that trully fit the constraints.You can check that len(c) /= len(b)\n",
    "print(f\"The algorithm has a success rate of {100*(len(viable_points))/(len(best)*len(best[0])):.3f} %\")"
   ]
  },
  {
   "cell_type": "code",
   "execution_count": null,
   "metadata": {},
   "outputs": [],
   "source": [
    "print(viable_points) #These are all the viable points.If you want to get them print them out or use np to make the a txt file. To write them in a text file call the ga.write_text(name,data) command\n",
    "#print(nS_values)\n",
    "# print(r_values)\n",
    "#The nS and r values, store or print as needed"
   ]
  },
  {
   "cell_type": "code",
   "execution_count": null,
   "metadata": {},
   "outputs": [],
   "source": [
    "#Simplistic diagramm\n",
    "plot_param = 9\n",
    "ns_lower_lim,ns_upper_lim = gaobj.nSmin,gaobj.nSmax\n",
    "ns_lower = [ns_lower_lim]*plot_param\n",
    "ns_upper = [ns_upper_lim]* plot_param\n",
    "y_height = [0.0105*i for i in range(len(ns_lower))]\n",
    "\n",
    "fig, ax = plt.subplots()\n",
    "ga.style(ax)\n",
    "plt.scatter(nS_values,r_values, s=17)\n",
    "plt.plot(ns_lower,y_height,linestyle='dashed',color='red')\n",
    "plt.plot(ns_upper,y_height,linestyle='dashed',color='red')\n",
    "plt.xlim(0.94,0.98)\n",
    "plt.ylim(0,0.06)\n",
    "plt.title('Constraints diagram')\n",
    "plt.xlabel('nS')\n",
    "plt.ylabel('r')\n",
    "plt.savefig('Gen_Algo_Diagramm.png')\n",
    "plt.show()"
   ]
  },
  {
   "cell_type": "code",
   "execution_count": null,
   "metadata": {},
   "outputs": [],
   "source": [
    "#Now for the scores\n",
    "\n",
    "fig, ax = plt.subplots()\n",
    "\n",
    "for index, row in enumerate(keep_scores):\n",
    "    x_arr = np.full(len(row), index+1)\n",
    "    y_arr = np.array(row)\n",
    "    ax.scatter(x_arr, y_arr, s=25)\n",
    "plt.title('The total scores for all the populations')\n",
    "plt.xlabel(\"Generation\")\n",
    "plt.ylabel(\"Score\")\n",
    "ga.style(ax)\n",
    "plt.show()\n",
    "\n",
    "#We can see that the best players dont get significantly better, but the rest of the players exhibit an exponential convergence \n",
    "#towards the local optimum."
   ]
  },
  {
   "cell_type": "code",
   "execution_count": null,
   "metadata": {},
   "outputs": [],
   "source": [
    "fig, ax = plt.subplots()\n",
    "start = 3\n",
    "for index, row in enumerate(keep_scores[start-1:]):\n",
    "    x_arr = np.full(len(row), index+start)\n",
    "    y_arr = np.array(row)\n",
    "    ax.scatter(x_arr, y_arr, s=18)\n",
    "\n",
    "plt.title('Zoomed in graph for the latter generations')\n",
    "plt.xlabel(\"Generations\")\n",
    "plt.ylabel(\"Score\")\n",
    "ga.style(ax)\n",
    "plt.show()"
   ]
  },
  {
   "cell_type": "code",
   "execution_count": null,
   "metadata": {},
   "outputs": [],
   "source": [
    "def exp(x,a,b,c,d):\n",
    "    return a+b*np.exp(-c*x**d)\n",
    "\n",
    "average_score = np.array([np.average(score) for score in keep_scores])\n",
    "best_players_score = np.array([score[0] for score in keep_scores])\n",
    "worst_players_score = np.array([score[-1] for score in keep_scores])\n",
    "generations = np.array([i+1 for i in range(len(keep_scores))])\n",
    "\n",
    "\n",
    "def plot_fit_data_foo(func, gen_range, av_score):\n",
    "    try:\n",
    "        popt, pcov = curve_fit(exp, gen_range, av_score)\n",
    "        args = popt\n",
    "        gen_points = np.linspace(gen_range[0],gen_range[-1],len(gen_range)*4)\n",
    "        fit_result = func(gen_points, *args)\n",
    "        \n",
    "        plt.plot(gen_points, fit_result, linestyle='dashdot', label='enchanced exponential fit', color='0.4')\n",
    "    except (RuntimeError, TypeError, ValueError) as e:\n",
    "        print(\"An error occurred during curve fitting:\", str(e))\n",
    "\n",
    "        "
   ]
  },
  {
   "cell_type": "code",
   "execution_count": null,
   "metadata": {},
   "outputs": [],
   "source": [
    "#Plotting the average, best and fit scores\n",
    "plt.plot(generations,best_players_score, label='best score',color='blue')\n",
    "plt.plot(generations,average_score, label='average score', color='red')\n",
    "plot_fit_data_foo(exp, generations, average_score)\n",
    "plt.plot(generations,worst_players_score,label='worst score', color='orange')\n",
    "plt.title('The best, average and worst score for all generations')\n",
    "plt.xlabel(\"Generations\")\n",
    "plt.ylabel(\"Score\")\n",
    "plt.legend()\n",
    "ga.style(ax)\n",
    "plt.show()"
   ]
  },
  {
   "cell_type": "code",
   "execution_count": null,
   "metadata": {},
   "outputs": [],
   "source": [
    "print(keep_scores) #A score of approximately 1.8 - 2 means the algorithm has converged"
   ]
  }
 ],
 "metadata": {
  "kernelspec": {
   "display_name": "base",
   "language": "python",
   "name": "python3"
  },
  "language_info": {
   "codemirror_mode": {
    "name": "ipython",
    "version": 3
   },
   "file_extension": ".py",
   "mimetype": "text/x-python",
   "name": "python",
   "nbconvert_exporter": "python",
   "pygments_lexer": "ipython3",
   "version": "3.11.4"
  },
  "orig_nbformat": 4
 },
 "nbformat": 4,
 "nbformat_minor": 2
}
